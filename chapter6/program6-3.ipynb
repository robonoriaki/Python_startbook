{
 "cells": [
  {
   "cell_type": "code",
   "execution_count": 1,
   "metadata": {},
   "outputs": [],
   "source": [
    "#複数行書き込み、読み込みをする\n",
    "\n",
    "#\\nは改行を示す制御文字\n",
    "test_file = open('test2.txt','w')\n",
    "test_file.write('Hello\\nPython')\n",
    "test_file.flush()\n",
    "test_file.close()\n",
    "#このとき、EOFの位置はPythonの直後\n",
    "#test_file.write('Hello\\nPython\\n')\n",
    "#とすると、最後の行（3行目）にEOFがくる"
   ]
  },
  {
   "cell_type": "code",
   "execution_count": 2,
   "metadata": {},
   "outputs": [
    {
     "name": "stdout",
     "output_type": "stream",
     "text": [
      "['Hello\\n', 'Python']\n"
     ]
    }
   ],
   "source": [
    "test_file = open('test2.txt','r')\n",
    "\n",
    "#readlineメソッドは1行ずつ読み込むメソッド\n",
    "#これを2回呼び出せば、2行読み込むことができる\n",
    "#ここでは複数行を一気に読み込んでリスト型のデータにしてくれるreadlinesメソッドを使う\n",
    "lines = test_file.readlines()\n",
    "print(lines)\n",
    "\n",
    "test_file.close()"
   ]
  },
  {
   "cell_type": "code",
   "execution_count": 3,
   "metadata": {},
   "outputs": [
    {
     "name": "stdout",
     "output_type": "stream",
     "text": [
      "Hello\n",
      "\n",
      "Python\n"
     ]
    }
   ],
   "source": [
    "test_file = open('test2.txt','r')\n",
    "\n",
    "line1 = test_file.readline()\n",
    "print(line1)\n",
    "\n",
    "line2 = test_file.readline()\n",
    "print(line2)\n",
    "\n",
    "test_file.close()"
   ]
  },
  {
   "cell_type": "code",
   "execution_count": 4,
   "metadata": {},
   "outputs": [
    {
     "name": "stdout",
     "output_type": "stream",
     "text": [
      "Hello\n",
      "\n",
      "Hello\n"
     ]
    }
   ],
   "source": [
    "#制御文字があると面倒な場合がある\n",
    "#文字列の前後にある半角の空白文字や、改行、タブなどの制御文字を取り除くstripメソッド\n",
    "\n",
    "#このままでは改行文字があるので、改行文字の分とprint関数の分により、2回改行される\n",
    "print(lines[0])\n",
    "\n",
    "#stripで改行文字を取り除いたので、print関数の分の改行だけ行われる\n",
    "str = lines[0].strip()\n",
    "print(str)"
   ]
  }
 ],
 "metadata": {
  "kernelspec": {
   "display_name": "Python 3",
   "language": "python",
   "name": "python3"
  },
  "language_info": {
   "codemirror_mode": {
    "name": "ipython",
    "version": 3
   },
   "file_extension": ".py",
   "mimetype": "text/x-python",
   "name": "python",
   "nbconvert_exporter": "python",
   "pygments_lexer": "ipython3",
   "version": "3.6.5"
  }
 },
 "nbformat": 4,
 "nbformat_minor": 2
}
