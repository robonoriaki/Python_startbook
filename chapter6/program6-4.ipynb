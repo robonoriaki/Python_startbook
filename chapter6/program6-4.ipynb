{
 "cells": [
  {
   "cell_type": "code",
   "execution_count": 1,
   "metadata": {},
   "outputs": [],
   "source": [
    "#for分を使った処理\n",
    "\n",
    "data = ['1,2,3\\n','4,5,6\\n','7,8,9\\n']\n",
    "test_file = open('test3.txt','w')\n",
    "#リストのデータを一度に書き込むwritelinesメソッド\n",
    "test_file.writelines(data)\n",
    "test_file.flush()\n",
    "test_file.close()"
   ]
  },
  {
   "cell_type": "code",
   "execution_count": 2,
   "metadata": {},
   "outputs": [
    {
     "name": "stdout",
     "output_type": "stream",
     "text": [
      "1,2,3\n",
      "4,5,6\n",
      "7,8,9\n"
     ]
    }
   ],
   "source": [
    "#ファイルを行ごとに読み込む\n",
    "#stripメソッドで改行文字をなくす\n",
    "test_file = open('test3.txt','r')\n",
    "for line in test_file:\n",
    "    print(line.strip())\n",
    "    \n",
    "test_file.close()"
   ]
  },
  {
   "cell_type": "code",
   "execution_count": 3,
   "metadata": {},
   "outputs": [
    {
     "name": "stdout",
     "output_type": "stream",
     "text": [
      "1\t2\t3\n",
      "4\t5\t6\n",
      "7\t8\t9\n"
     ]
    }
   ],
   "source": [
    "#カンマで区切られたデータをタブで区切られたものに変える\n",
    "test_file = open('test3.txt','r')\n",
    "for line in test_file:\n",
    "    #改行文字を削除\n",
    "    temp_str = line.strip()\n",
    "    #カンマで分裂したリストを作る\n",
    "    temp_list = temp_str.split(',')\n",
    "    ############\n",
    "    #temp_list = line.strip().split('r')\n",
    "    #と一行で書くこともできる\n",
    "    ############\n",
    "    #タブで区切られた文字列をリストを使って作る\n",
    "    #\\tはタブの制御文字\n",
    "    output_line = '\\t'.join(temp_list)\n",
    "    print(output_line)\n",
    "    \n",
    "test_file.close()"
   ]
  }
 ],
 "metadata": {
  "kernelspec": {
   "display_name": "Python 3",
   "language": "python",
   "name": "python3"
  },
  "language_info": {
   "codemirror_mode": {
    "name": "ipython",
    "version": 3
   },
   "file_extension": ".py",
   "mimetype": "text/x-python",
   "name": "python",
   "nbconvert_exporter": "python",
   "pygments_lexer": "ipython3",
   "version": "3.6.5"
  }
 },
 "nbformat": 4,
 "nbformat_minor": 2
}
