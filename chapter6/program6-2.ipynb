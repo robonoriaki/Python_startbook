{
 "cells": [
  {
   "cell_type": "code",
   "execution_count": 1,
   "metadata": {},
   "outputs": [],
   "source": [
    "#File input / output\n",
    "\n",
    "#openでファイルを開く\n",
    "#wは書き込みモード、そのファイルが存在しなければ作成する\n",
    "#存在する場合はその内容が消去されてしまうので注意\n",
    "#open関数を呼び出すと、file型のデータが戻り値としてかえってくる\n",
    "#test_fileという変数でファイルが関連付けられた\n",
    "test_file = open('test.txt','w')"
   ]
  },
  {
   "cell_type": "code",
   "execution_count": 2,
   "metadata": {},
   "outputs": [
    {
     "data": {
      "text/plain": [
       "5"
      ]
     },
     "execution_count": 2,
     "metadata": {},
     "output_type": "execute_result"
    }
   ],
   "source": [
    "#file型がもっているwriteというメソッドで書き込める\n",
    "test_file.write('Hello')"
   ]
  },
  {
   "cell_type": "code",
   "execution_count": 3,
   "metadata": {},
   "outputs": [],
   "source": [
    "#test_fileという変数を通じてtest.txtを操作しており、その間にホースがあることをイメージしたとする\n",
    "#そこを文字列などが通り、ファイルに書き込む\n",
    "#そのホースにデータが残らないようにきれいにする\n",
    "test_file.flush()"
   ]
  },
  {
   "cell_type": "code",
   "execution_count": 4,
   "metadata": {},
   "outputs": [],
   "source": [
    "#作業が完了したら、ファイルと切り離す\n",
    "test_file.close()"
   ]
  },
  {
   "cell_type": "code",
   "execution_count": 5,
   "metadata": {},
   "outputs": [],
   "source": [
    "#読み込みモードrでファイルの中身を読むことができる\n",
    "test_file = open('test.txt','r')"
   ]
  },
  {
   "cell_type": "code",
   "execution_count": 6,
   "metadata": {},
   "outputs": [],
   "source": [
    "#先頭から1行だけ読み込んで返すreadlineメソッド\n",
    "read_str = test_file.readline()"
   ]
  },
  {
   "cell_type": "code",
   "execution_count": 7,
   "metadata": {},
   "outputs": [],
   "source": [
    "#書き込む際と異なり、すぐにプログラムに渡されるため、flushは必要ない\n",
    "test_file.close()"
   ]
  },
  {
   "cell_type": "code",
   "execution_count": 8,
   "metadata": {},
   "outputs": [
    {
     "name": "stdout",
     "output_type": "stream",
     "text": [
      "Hello\n"
     ]
    }
   ],
   "source": [
    "#読み込んだ文字列を表示する\n",
    "print(read_str)"
   ]
  }
 ],
 "metadata": {
  "kernelspec": {
   "display_name": "Python 3",
   "language": "python",
   "name": "python3"
  },
  "language_info": {
   "codemirror_mode": {
    "name": "ipython",
    "version": 3
   },
   "file_extension": ".py",
   "mimetype": "text/x-python",
   "name": "python",
   "nbconvert_exporter": "python",
   "pygments_lexer": "ipython3",
   "version": "3.6.5"
  }
 },
 "nbformat": 4,
 "nbformat_minor": 2
}
