{
 "cells": [
  {
   "cell_type": "code",
   "execution_count": 1,
   "metadata": {},
   "outputs": [
    {
     "name": "stdout",
     "output_type": "stream",
     "text": [
      "Game Start\n",
      "4, 6, 8, 12 or 20?: 20\n"
     ]
    }
   ],
   "source": [
    "#Dice Game\n",
    "#正多面体の数を選択させて、それを使ってコンピュータと対戦する\n",
    "#出た目が大きい方が勝利\n",
    "\n",
    "import dice4 as dice\n",
    "\n",
    "print('Game Start')\n",
    "face = eval(input('Please choose 4, 6, 8, 12 or 20?: '))\n",
    "#type(face)\n",
    "player_dice = dice.Dice(face)"
   ]
  },
  {
   "cell_type": "code",
   "execution_count": 2,
   "metadata": {},
   "outputs": [
    {
     "name": "stdout",
     "output_type": "stream",
     "text": [
      "player: 10\n",
      "computer: 17\n"
     ]
    }
   ],
   "source": [
    "cpu_dice = dice.Dice(face)\n",
    "\n",
    "player_shoot = player_dice.shoot()\n",
    "cpu_shoot = cpu_dice.shoot()\n",
    "\n",
    "print('player: {}'.format(player_shoot))\n",
    "print('computer: {}'.format(cpu_shoot))"
   ]
  },
  {
   "cell_type": "code",
   "execution_count": 3,
   "metadata": {},
   "outputs": [
    {
     "name": "stdout",
     "output_type": "stream",
     "text": [
      "You Lose\n"
     ]
    }
   ],
   "source": [
    "if player_shoot > cpu_shoot:\n",
    "    print('You Win')\n",
    "elif cpu_shoot > player_shoot:\n",
    "    print('You Lose')\n",
    "else:\n",
    "    print('Draw')"
   ]
  }
 ],
 "metadata": {
  "kernelspec": {
   "display_name": "Python 3",
   "language": "python",
   "name": "python3"
  },
  "language_info": {
   "codemirror_mode": {
    "name": "ipython",
    "version": 3
   },
   "file_extension": ".py",
   "mimetype": "text/x-python",
   "name": "python",
   "nbconvert_exporter": "python",
   "pygments_lexer": "ipython3",
   "version": "3.6.5"
  }
 },
 "nbformat": 4,
 "nbformat_minor": 2
}
