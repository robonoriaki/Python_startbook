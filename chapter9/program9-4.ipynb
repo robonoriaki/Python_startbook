{
 "cells": [
  {
   "cell_type": "code",
   "execution_count": 1,
   "metadata": {},
   "outputs": [
    {
     "name": "stdout",
     "output_type": "stream",
     "text": [
      "Hello!\n"
     ]
    }
   ],
   "source": [
    "import dice2\n",
    "\n",
    "#これは引数のない初期がメソッドを呼び出すコード\n",
    "#初期化メソッドの名前は「__init__」\n",
    "saikoro = dice2.Dice()"
   ]
  },
  {
   "cell_type": "code",
   "execution_count": 2,
   "metadata": {},
   "outputs": [
    {
     "name": "stdout",
     "output_type": "stream",
     "text": [
      "6\n"
     ]
    },
    {
     "data": {
      "text/plain": [
       "1"
      ]
     },
     "execution_count": 2,
     "metadata": {},
     "output_type": "execute_result"
    }
   ],
   "source": [
    "#多様なサイコロを実現できるDice型をdice3.pyに書いた\n",
    "#初期化メソッドを呼び出すときに正多面体の面の数を指定する\n",
    "#デフォルトは6面体\n",
    "\n",
    "import dice3\n",
    "\n",
    "saikoro = dice3.Dice(6)\n",
    "\n",
    "saikoro.shoot()"
   ]
  }
 ],
 "metadata": {
  "kernelspec": {
   "display_name": "Python 3",
   "language": "python",
   "name": "python3"
  },
  "language_info": {
   "codemirror_mode": {
    "name": "ipython",
    "version": 3
   },
   "file_extension": ".py",
   "mimetype": "text/x-python",
   "name": "python",
   "nbconvert_exporter": "python",
   "pygments_lexer": "ipython3",
   "version": "3.6.5"
  }
 },
 "nbformat": 4,
 "nbformat_minor": 2
}
