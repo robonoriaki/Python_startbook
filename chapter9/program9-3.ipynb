{
 "cells": [
  {
   "cell_type": "code",
   "execution_count": 1,
   "metadata": {},
   "outputs": [],
   "source": [
    "#新しいデータ型を作る\n",
    "#サイコロをモデルにして作る\n",
    "\n",
    "#まずは何もしないデータ型Diceを作ってみる\n",
    "class Dice:\n",
    "    pass\n",
    "\n",
    "#インスタンスを作る\n",
    "saikoro = Dice()"
   ]
  },
  {
   "cell_type": "code",
   "execution_count": 2,
   "metadata": {},
   "outputs": [],
   "source": [
    "#データ属性（アトリビュート）の追加\n",
    "class Dice:\n",
    "    #6面ある\n",
    "    face_num = 6"
   ]
  },
  {
   "cell_type": "code",
   "execution_count": 3,
   "metadata": {},
   "outputs": [
    {
     "name": "stdout",
     "output_type": "stream",
     "text": [
      "6\n"
     ]
    }
   ],
   "source": [
    "#Dice型のインスタンスを用意して、データ属性を持っているか確認する\n",
    "saikoro = Dice()\n",
    "print(saikoro.face_num)"
   ]
  },
  {
   "cell_type": "code",
   "execution_count": 4,
   "metadata": {},
   "outputs": [
    {
     "name": "stdout",
     "output_type": "stream",
     "text": [
      "4\n",
      "6\n",
      "1\n"
     ]
    }
   ],
   "source": [
    "#サイコロを転がすと1から6までの数字のどれかがでる\n",
    "#これをDice型に追加する\n",
    "\n",
    "#1から6までの乱数を得る関数\n",
    "\n",
    "import random\n",
    "\n",
    "def shoot():\n",
    "    return random.randint(1,6)\n",
    "\n",
    "#表示してみる\n",
    "for i in range(3):\n",
    "    print(shoot())\n",
    "    \n",
    "#これをclassの中に書いてもエラーがでる！\n",
    "#関数をそのまま追加してもメソッドとして機能しない"
   ]
  },
  {
   "cell_type": "code",
   "execution_count": null,
   "metadata": {},
   "outputs": [],
   "source": []
  }
 ],
 "metadata": {
  "kernelspec": {
   "display_name": "Python 3",
   "language": "python",
   "name": "python3"
  },
  "language_info": {
   "codemirror_mode": {
    "name": "ipython",
    "version": 3
   },
   "file_extension": ".py",
   "mimetype": "text/x-python",
   "name": "python",
   "nbconvert_exporter": "python",
   "pygments_lexer": "ipython3",
   "version": "3.6.5"
  }
 },
 "nbformat": 4,
 "nbformat_minor": 2
}
