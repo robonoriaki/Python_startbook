{
 "cells": [
  {
   "cell_type": "code",
   "execution_count": 1,
   "metadata": {},
   "outputs": [],
   "source": [
    "#より関数を使ってみる\n",
    "#カメを中心に円を描く関数を作る\n",
    "\n",
    "import turtle\n",
    "\n",
    "kame = turtle.Turtle()\n",
    "kame.shape('turtle')\n",
    "kame.shapesize(2,2,3)"
   ]
  },
  {
   "cell_type": "code",
   "execution_count": 2,
   "metadata": {},
   "outputs": [],
   "source": [
    "#今いるところを中心に円を描く関数\n",
    "#引数に半径の値をとる\n",
    "def center_circle(r):\n",
    "    #半径分移動して回転する\n",
    "    kame.penup()\n",
    "    kame.forward(r)\n",
    "    kame.left(90)\n",
    "    kame.pendown()\n",
    "    \n",
    "    #円を描く\n",
    "    kame.circle(r)\n",
    "    \n",
    "    #中心に戻る\n",
    "    kame.penup()\n",
    "    kame.left(90)\n",
    "    kame.forward(r)\n",
    "    kame.left(180)\n",
    "    kame.pendown()"
   ]
  },
  {
   "cell_type": "code",
   "execution_count": 3,
   "metadata": {},
   "outputs": [],
   "source": [
    "#関数呼び出し\n",
    "center_circle(150)\n",
    "\n",
    "#問題点あり!!\n",
    "#関数の外で定義されたkameを関数内で使用していることが問題\n",
    "#これでは、kameという名前のカメしか扱えない"
   ]
  },
  {
   "cell_type": "code",
   "execution_count": 4,
   "metadata": {},
   "outputs": [],
   "source": [
    "#正しい関数の定義\n",
    "#今いるところを中心に円を描く関数\n",
    "#引数にturtle.Turtle型のインスタンスと半径の値をとる\n",
    "def center_circle(name, r):\n",
    "    #半径分移動して回転する\n",
    "    name.penup()\n",
    "    name.forward(r)\n",
    "    name.left(90)\n",
    "    name.pendown()\n",
    "    \n",
    "    #円を描く\n",
    "    name.circle(r)\n",
    "    \n",
    "    #中心に戻る\n",
    "    name.penup()\n",
    "    name.left(90)\n",
    "    name.forward(r)\n",
    "    name.left(180)\n",
    "    name.pendown()"
   ]
  },
  {
   "cell_type": "code",
   "execution_count": 5,
   "metadata": {},
   "outputs": [],
   "source": [
    "#関数呼び出し\n",
    "center_circle(kame,300)"
   ]
  },
  {
   "cell_type": "code",
   "execution_count": 6,
   "metadata": {},
   "outputs": [],
   "source": [
    "#上記のものをモジュール化した\n",
    "import kame_tools"
   ]
  },
  {
   "cell_type": "code",
   "execution_count": 7,
   "metadata": {},
   "outputs": [],
   "source": [
    "kame_tools.center_circle(kame)"
   ]
  },
  {
   "cell_type": "code",
   "execution_count": 8,
   "metadata": {},
   "outputs": [],
   "source": [
    "kame_tools.center_circle(kame,200)"
   ]
  }
 ],
 "metadata": {
  "kernelspec": {
   "display_name": "Python 3",
   "language": "python",
   "name": "python3"
  },
  "language_info": {
   "codemirror_mode": {
    "name": "ipython",
    "version": 3
   },
   "file_extension": ".py",
   "mimetype": "text/x-python",
   "name": "python",
   "nbconvert_exporter": "python",
   "pygments_lexer": "ipython3",
   "version": "3.6.5"
  }
 },
 "nbformat": 4,
 "nbformat_minor": 2
}
