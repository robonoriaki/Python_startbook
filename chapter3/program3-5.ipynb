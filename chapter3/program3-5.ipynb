{
 "cells": [
  {
   "cell_type": "code",
   "execution_count": 1,
   "metadata": {},
   "outputs": [],
   "source": [
    "#datetime module\n",
    "\n",
    "import datetime"
   ]
  },
  {
   "cell_type": "code",
   "execution_count": 2,
   "metadata": {},
   "outputs": [
    {
     "name": "stdout",
     "output_type": "stream",
     "text": [
      "2030-04-14\n"
     ]
    }
   ],
   "source": [
    "#dayはdate型のデータ\n",
    "#型と同じ名前のメソッドのことを初期化メソッドと呼ぶ\n",
    "#初期化メソッドで作成されたデータ型の実体（ここではday）をインスタンスと呼ぶ\n",
    "day = datetime.date(2030, 4,14)\n",
    "print(day)"
   ]
  },
  {
   "cell_type": "code",
   "execution_count": 3,
   "metadata": {},
   "outputs": [
    {
     "name": "stdout",
     "output_type": "stream",
     "text": [
      "6\n"
     ]
    }
   ],
   "source": [
    "#weekdayメソッド\n",
    "#月曜日から日曜日までを0から6の数値で返す\n",
    "\n",
    "print(day.weekday())"
   ]
  },
  {
   "cell_type": "code",
   "execution_count": 4,
   "metadata": {},
   "outputs": [
    {
     "name": "stdout",
     "output_type": "stream",
     "text": [
      "2019-11-04\n"
     ]
    }
   ],
   "source": [
    "#module name.type of data.mechod name\n",
    "#モジュール名.データ型.メソッド名\n",
    "#で作る\n",
    "today = datetime.date.today()\n",
    "print(today)"
   ]
  },
  {
   "cell_type": "code",
   "execution_count": 5,
   "metadata": {},
   "outputs": [
    {
     "name": "stdout",
     "output_type": "stream",
     "text": [
      "2019-11-04\n",
      "2030-04-14\n"
     ]
    }
   ],
   "source": [
    "print(day.today())\n",
    "print(day)"
   ]
  },
  {
   "cell_type": "code",
   "execution_count": 6,
   "metadata": {},
   "outputs": [
    {
     "name": "stdout",
     "output_type": "stream",
     "text": [
      "1969-07-21 05:17:40\n"
     ]
    }
   ],
   "source": [
    "#アポロ11号が月面に着陸した日本時間 1969年7月21二値5時17分40秒\n",
    "apollo_11 = datetime.datetime(1969,7,21,5,17,40)\n",
    "print(apollo_11)"
   ]
  },
  {
   "cell_type": "code",
   "execution_count": 7,
   "metadata": {},
   "outputs": [
    {
     "name": "stdout",
     "output_type": "stream",
     "text": [
      "2019-11-04 23:13:13.073088\n"
     ]
    }
   ],
   "source": [
    "now = datetime.datetime.now()\n",
    "print(now)"
   ]
  }
 ],
 "metadata": {
  "kernelspec": {
   "display_name": "Python 3",
   "language": "python",
   "name": "python3"
  },
  "language_info": {
   "codemirror_mode": {
    "name": "ipython",
    "version": 3
   },
   "file_extension": ".py",
   "mimetype": "text/x-python",
   "name": "python",
   "nbconvert_exporter": "python",
   "pygments_lexer": "ipython3",
   "version": "3.6.5"
  }
 },
 "nbformat": 4,
 "nbformat_minor": 2
}
