{
 "cells": [
  {
   "cell_type": "code",
   "execution_count": 1,
   "metadata": {},
   "outputs": [
    {
     "name": "stdout",
     "output_type": "stream",
     "text": [
      "Calculate your BMI value\n"
     ]
    }
   ],
   "source": [
    "#BMI caluculation\n",
    "\n",
    "print('Calculate your BMI value')"
   ]
  },
  {
   "cell_type": "code",
   "execution_count": 2,
   "metadata": {},
   "outputs": [
    {
     "name": "stdout",
     "output_type": "stream",
     "text": [
      "Please enter your height[m]: 1.75\n",
      "Your height[m]: 1.75\n",
      "Please enter your weight[kg]: 70\n",
      "Your weight[kg]: 70.0\n",
      "Your BMI is 22.9\n"
     ]
    }
   ],
   "source": [
    "while True:\n",
    "    #身長の入力\n",
    "    h = input('Please enter your height[m]: ')\n",
    "    \n",
    "    #入力されたのは文字列\n",
    "    #print(type(h))\n",
    "    \n",
    "    #エラーが起きそうなところにtryとexceptを記述して対応する\n",
    "    try:\n",
    "        #数値に変換する\n",
    "        h = float(h)\n",
    "        #print(type(h))\n",
    "        print('Your height[m]: {}'.format(h))\n",
    "    except:\n",
    "        print('ERROR')\n",
    "        print('Enter your height[m]')\n",
    "        \n",
    "    #体重の入力\n",
    "    w = input('Please enter your weight[kg]: ')\n",
    "    \n",
    "    #入力されたのは文字列\n",
    "    #print(type(w))\n",
    "    \n",
    "    #エラーが起きそうなところにtryとexceptを記述して対応する\n",
    "    try:\n",
    "        #数値に変換する\n",
    "        w = float(w)\n",
    "        #print(type(h))\n",
    "        print('Your weight[kg]: {}'.format(w))\n",
    "    except:\n",
    "        print('ERROR')\n",
    "        print('Enter your weight[kg]')\n",
    "        \n",
    "    #BMIを計算して表示する\n",
    "    bmi = w / pow(h,2)\n",
    "    print('Your BMI is %0.1f' % bmi)\n",
    "    \n",
    "    \n",
    "    \n",
    "    \n",
    "    break"
   ]
  }
 ],
 "metadata": {
  "kernelspec": {
   "display_name": "Python 3",
   "language": "python",
   "name": "python3"
  },
  "language_info": {
   "codemirror_mode": {
    "name": "ipython",
    "version": 3
   },
   "file_extension": ".py",
   "mimetype": "text/x-python",
   "name": "python",
   "nbconvert_exporter": "python",
   "pygments_lexer": "ipython3",
   "version": "3.6.5"
  }
 },
 "nbformat": 4,
 "nbformat_minor": 2
}
