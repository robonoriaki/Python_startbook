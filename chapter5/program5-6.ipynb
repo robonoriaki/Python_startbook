{
 "cells": [
  {
   "cell_type": "code",
   "execution_count": 1,
   "metadata": {},
   "outputs": [
    {
     "name": "stdout",
     "output_type": "stream",
     "text": [
      "Calculate your BMI value\n"
     ]
    }
   ],
   "source": [
    "#BMI caluculation\n",
    "\n",
    "print('Calculate your BMI value')"
   ]
  },
  {
   "cell_type": "code",
   "execution_count": 2,
   "metadata": {},
   "outputs": [
    {
     "name": "stdout",
     "output_type": "stream",
     "text": [
      "Please enter your height(m): 1.70\n",
      "Your height: 1.7\n"
     ]
    }
   ],
   "source": [
    "while True:\n",
    "    h = input('Please enter your height(m): ')\n",
    "    \n",
    "    #入力されたのは文字列\n",
    "    #print(type(h))\n",
    "    \n",
    "    #エラーが起きそうなところにtryとexceptを記述して対応する\n",
    "    try:\n",
    "        #数値に変換する\n",
    "        h = float(h)\n",
    "        #print(type(h))\n",
    "        print('Your height: {}'.format(h))\n",
    "    except:\n",
    "        print('ERROR')\n",
    "        print('Enter your height(m)')\n",
    "    \n",
    "    \n",
    "    \n",
    "    \n",
    "    break"
   ]
  },
  {
   "cell_type": "code",
   "execution_count": null,
   "metadata": {},
   "outputs": [],
   "source": []
  }
 ],
 "metadata": {
  "kernelspec": {
   "display_name": "Python 3",
   "language": "python",
   "name": "python3"
  },
  "language_info": {
   "codemirror_mode": {
    "name": "ipython",
    "version": 3
   },
   "file_extension": ".py",
   "mimetype": "text/x-python",
   "name": "python",
   "nbconvert_exporter": "python",
   "pygments_lexer": "ipython3",
   "version": "3.6.5"
  }
 },
 "nbformat": 4,
 "nbformat_minor": 2
}
