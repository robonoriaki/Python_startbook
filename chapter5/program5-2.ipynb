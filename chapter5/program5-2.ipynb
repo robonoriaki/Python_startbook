{
 "cells": [
  {
   "cell_type": "code",
   "execution_count": 1,
   "metadata": {},
   "outputs": [
    {
     "name": "stdout",
     "output_type": "stream",
     "text": [
      "list1:\n",
      "10.0\n",
      "13.0\n",
      "9.0\n",
      "11.0\n",
      "list2:\n",
      "4.0\n",
      "65.0\n",
      "77.0\n",
      "2.0\n",
      "43.0\n"
     ]
    }
   ],
   "source": [
    "#for\n",
    "\n",
    "list1 = [10.0, 13.0, 9.0,11.0]\n",
    "list2 = [4.0,65.0,77.0,2.0,43.0]\n",
    "\n",
    "#字下げされた部分をブロックという\n",
    "print('list1:')\n",
    "for val in list1:\n",
    "    print(val)\n",
    "\n",
    "    \n",
    "print('list2:')\n",
    "for val in list2:\n",
    "    print(val)"
   ]
  },
  {
   "cell_type": "code",
   "execution_count": 4,
   "metadata": {},
   "outputs": [
    {
     "name": "stdout",
     "output_type": "stream",
     "text": [
      "argument value of list1 = 10.75\n"
     ]
    }
   ],
   "source": [
    "argv = 0.0\n",
    "\n",
    "for val in list1:\n",
    "    argv += val\n",
    "    \n",
    "argv = argv / len(list1)\n",
    "print('argument value of list1 = {}'.format(argv))"
   ]
  },
  {
   "cell_type": "code",
   "execution_count": 5,
   "metadata": {},
   "outputs": [
    {
     "name": "stdout",
     "output_type": "stream",
     "text": [
      "argument value of list2 = 38.2\n"
     ]
    }
   ],
   "source": [
    "argv = 0.0\n",
    "\n",
    "for val in list2:\n",
    "    argv += val\n",
    "    \n",
    "argv = argv / len(list2)\n",
    "print('argument value of list2 = {}'.format(argv))"
   ]
  },
  {
   "cell_type": "code",
   "execution_count": null,
   "metadata": {},
   "outputs": [],
   "source": []
  }
 ],
 "metadata": {
  "kernelspec": {
   "display_name": "Python 3",
   "language": "python",
   "name": "python3"
  },
  "language_info": {
   "codemirror_mode": {
    "name": "ipython",
    "version": 3
   },
   "file_extension": ".py",
   "mimetype": "text/x-python",
   "name": "python",
   "nbconvert_exporter": "python",
   "pygments_lexer": "ipython3",
   "version": "3.6.5"
  }
 },
 "nbformat": 4,
 "nbformat_minor": 2
}
