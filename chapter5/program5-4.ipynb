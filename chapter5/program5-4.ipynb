{
 "cells": [
  {
   "cell_type": "code",
   "execution_count": 1,
   "metadata": {},
   "outputs": [
    {
     "name": "stdout",
     "output_type": "stream",
     "text": [
      "8\n"
     ]
    }
   ],
   "source": [
    "#while\n",
    "import random\n",
    "\n",
    "#0から9までの整数の乱数\n",
    "x = random.randint(0,9)\n",
    "print(x)"
   ]
  },
  {
   "cell_type": "code",
   "execution_count": 2,
   "metadata": {},
   "outputs": [
    {
     "name": "stdout",
     "output_type": "stream",
     "text": [
      "3\n",
      "8\n",
      "7\n",
      "5\n",
      "7\n",
      "5\n",
      "0\n",
      "0\n",
      "0\n",
      "1\n",
      "8\n",
      "1\n",
      "9\n",
      "8\n",
      "8\n",
      "4\n",
      "Finish\n"
     ]
    }
   ],
   "source": [
    "#4が出るまで繰り返す\n",
    "#いつ出るかわからないので、このようなときにwhileが使える\n",
    "rand_num = 0\n",
    "\n",
    "while(rand_num != 4):\n",
    "    rand_num = random.randint(0,9)\n",
    "    print(rand_num)\n",
    "\n",
    "print('Finish')"
   ]
  },
  {
   "cell_type": "code",
   "execution_count": 3,
   "metadata": {},
   "outputs": [
    {
     "name": "stdout",
     "output_type": "stream",
     "text": [
      "2\n",
      "5\n",
      "4\n",
      "Finish\n"
     ]
    }
   ],
   "source": [
    "#上のセルと同じ動作をするもの\n",
    "#Trueを使うと無限ループになる\n",
    "while True:\n",
    "    rand_num = random.randint(0,9)\n",
    "    print(rand_num)\n",
    "    \n",
    "    #continueはループの先頭に戻る\n",
    "    #今回の場合、無限ループなのでもう一度乱数を発生させるところをやる\n",
    "    if rand_num != 4:\n",
    "        continue\n",
    "    #breakはループを抜ける\n",
    "    else:\n",
    "        break\n",
    "\n",
    "print('Finish')"
   ]
  }
 ],
 "metadata": {
  "kernelspec": {
   "display_name": "Python 3",
   "language": "python",
   "name": "python3"
  },
  "language_info": {
   "codemirror_mode": {
    "name": "ipython",
    "version": 3
   },
   "file_extension": ".py",
   "mimetype": "text/x-python",
   "name": "python",
   "nbconvert_exporter": "python",
   "pygments_lexer": "ipython3",
   "version": "3.6.5"
  }
 },
 "nbformat": 4,
 "nbformat_minor": 2
}
