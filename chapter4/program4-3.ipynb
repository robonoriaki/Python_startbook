{
 "cells": [
  {
   "cell_type": "code",
   "execution_count": 1,
   "metadata": {},
   "outputs": [
    {
     "name": "stdout",
     "output_type": "stream",
     "text": [
      "{1: 'America', 39: 'Italia', 86: 'China'}\n"
     ]
    }
   ],
   "source": [
    "#Type of dictionary\n",
    "#{key:value, key:value,....}と書く\n",
    "contry_code = {1:'America', 39:'Italia', 86:'China'}\n",
    "print(contry_code)"
   ]
  },
  {
   "cell_type": "code",
   "execution_count": 2,
   "metadata": {},
   "outputs": [
    {
     "name": "stdout",
     "output_type": "stream",
     "text": [
      "Italia\n"
     ]
    }
   ],
   "source": [
    "print(contry_code[39])"
   ]
  },
  {
   "cell_type": "code",
   "execution_count": 3,
   "metadata": {},
   "outputs": [
    {
     "data": {
      "text/plain": [
       "True"
      ]
     },
     "execution_count": 3,
     "metadata": {},
     "output_type": "execute_result"
    }
   ],
   "source": [
    "#キーが存在するか確かめる\n",
    "86 in contry_code"
   ]
  },
  {
   "cell_type": "code",
   "execution_count": 4,
   "metadata": {},
   "outputs": [
    {
     "data": {
      "text/plain": [
       "False"
      ]
     },
     "execution_count": 4,
     "metadata": {},
     "output_type": "execute_result"
    }
   ],
   "source": [
    "89 in contry_code"
   ]
  },
  {
   "cell_type": "code",
   "execution_count": 5,
   "metadata": {},
   "outputs": [
    {
     "name": "stdout",
     "output_type": "stream",
     "text": [
      "{1: 'America', 39: 'Italia', 86: 'China', 81: 'Japan'}\n"
     ]
    }
   ],
   "source": [
    "#追加\n",
    "contry_code[81] = 'Japan'\n",
    "print(contry_code)"
   ]
  },
  {
   "cell_type": "code",
   "execution_count": 6,
   "metadata": {},
   "outputs": [
    {
     "name": "stdout",
     "output_type": "stream",
     "text": [
      "{1: 'America', 39: 'Italia', 86: 'China', 81: 'Nippon'}\n"
     ]
    }
   ],
   "source": [
    "#変更\n",
    "#キーは同じ名前で2つ作れない\n",
    "contry_code[81] = 'Nippon'\n",
    "print(contry_code)"
   ]
  },
  {
   "cell_type": "code",
   "execution_count": 7,
   "metadata": {},
   "outputs": [
    {
     "name": "stdout",
     "output_type": "stream",
     "text": [
      "{39: 'Italia', 86: 'China', 81: 'Nippon'}\n"
     ]
    }
   ],
   "source": [
    "#キーを指定して値を削除する\n",
    "#そのキーが存在しない場合はエラーになる\n",
    "contry_code.pop(1)\n",
    "print(contry_code)"
   ]
  },
  {
   "cell_type": "code",
   "execution_count": 8,
   "metadata": {},
   "outputs": [
    {
     "name": "stdout",
     "output_type": "stream",
     "text": [
      "{}\n"
     ]
    }
   ],
   "source": [
    "#空の辞書\n",
    "blankdict = {}\n",
    "print(blankdict)"
   ]
  }
 ],
 "metadata": {
  "kernelspec": {
   "display_name": "Python 3",
   "language": "python",
   "name": "python3"
  },
  "language_info": {
   "codemirror_mode": {
    "name": "ipython",
    "version": 3
   },
   "file_extension": ".py",
   "mimetype": "text/x-python",
   "name": "python",
   "nbconvert_exporter": "python",
   "pygments_lexer": "ipython3",
   "version": "3.6.5"
  }
 },
 "nbformat": 4,
 "nbformat_minor": 2
}
