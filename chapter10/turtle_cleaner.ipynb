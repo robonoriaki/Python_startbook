{
 "cells": [
  {
   "cell_type": "code",
   "execution_count": 1,
   "metadata": {},
   "outputs": [
    {
     "name": "stdout",
     "output_type": "stream",
     "text": [
      "xe = 480.0\n",
      "ye = 405.0\n",
      "des_x = 480.0\n",
      "des_y = 0.0\n"
     ]
    }
   ],
   "source": [
    "import cleaner2\n",
    "\n",
    "kame = cleaner2.Kame()\n",
    "kame.hit_wall()"
   ]
  },
  {
   "cell_type": "code",
   "execution_count": 2,
   "metadata": {},
   "outputs": [
    {
     "name": "stdout",
     "output_type": "stream",
     "text": [
      "xe = 480.0\n",
      "ye = 405.0\n",
      "des_x = 16.197717030342005\n",
      "des_y = 405.0\n"
     ]
    }
   ],
   "source": [
    "kame.hit_wall()"
   ]
  },
  {
   "cell_type": "code",
   "execution_count": 3,
   "metadata": {},
   "outputs": [
    {
     "name": "stdout",
     "output_type": "stream",
     "text": [
      "xe = 480.0\n",
      "ye = 405.0\n",
      "des_x = -283.3315715030251\n",
      "des_y = -405.0\n",
      "xe = 480.0\n",
      "ye = 405.0\n",
      "des_x = 278.5748089526097\n",
      "des_y = 405.0\n",
      "xe = 480.0\n",
      "ye = 405.0\n",
      "des_x = 480.0\n",
      "des_y = 156.38087499182922\n",
      "xe = 480.0\n",
      "ye = 405.0\n",
      "des_x = 480.0\n",
      "des_y = 156.38087499182922\n",
      "xe = 480.0\n",
      "ye = 405.0\n",
      "des_x = 177.94273418832768\n",
      "des_y = 405.0\n",
      "xe = 480.0\n",
      "ye = 405.0\n",
      "des_x = -118.63548867118186\n",
      "des_y = -405.0\n",
      "xe = 480.0\n",
      "ye = 405.0\n",
      "des_x = 480.0\n",
      "des_y = -298.5064169347647\n",
      "xe = 480.0\n",
      "ye = 405.0\n",
      "des_x = 480.0\n",
      "des_y = -298.5064169347647\n",
      "xe = 480.0\n",
      "ye = 405.0\n",
      "des_x = 446.5584090493652\n",
      "des_y = -405.0\n",
      "xe = 480.0\n",
      "ye = 405.0\n",
      "des_x = 480.0\n",
      "des_y = -290.19270299552375\n",
      "xe = 480.0\n",
      "ye = 405.0\n",
      "des_x = 480.0\n",
      "des_y = -290.19270299552375\n",
      "xe = 480.0\n",
      "ye = 405.0\n",
      "des_x = 480.0\n",
      "des_y = 52.75033851536011\n",
      "xe = 480.0\n",
      "ye = 405.0\n",
      "des_x = 480.0\n",
      "des_y = 52.75033851536011\n",
      "xe = 480.0\n",
      "ye = 405.0\n",
      "des_x = 480.0\n",
      "des_y = 93.11298009251936\n",
      "xe = 480.0\n",
      "ye = 405.0\n",
      "des_x = 480.0\n",
      "des_y = 93.11298009251936\n",
      "xe = 480.0\n",
      "ye = 405.0\n",
      "des_x = 266.83723103994805\n",
      "des_y = -405.0\n",
      "xe = 480.0\n",
      "ye = 405.0\n",
      "des_x = 480.0\n",
      "des_y = 49.1448198754066\n",
      "xe = 480.0\n",
      "ye = 405.0\n",
      "des_x = 480.0\n",
      "des_y = 49.1448198754066\n",
      "xe = 480.0\n",
      "ye = 405.0\n",
      "des_x = -182.7762146956901\n",
      "des_y = -405.0\n",
      "xe = 480.0\n",
      "ye = 405.0\n",
      "des_x = 480.0\n",
      "des_y = -241.86836754578755\n"
     ]
    }
   ],
   "source": [
    "kame.run()"
   ]
  }
 ],
 "metadata": {
  "kernelspec": {
   "display_name": "Python 3",
   "language": "python",
   "name": "python3"
  },
  "language_info": {
   "codemirror_mode": {
    "name": "ipython",
    "version": 3
   },
   "file_extension": ".py",
   "mimetype": "text/x-python",
   "name": "python",
   "nbconvert_exporter": "python",
   "pygments_lexer": "ipython3",
   "version": "3.6.5"
  }
 },
 "nbformat": 4,
 "nbformat_minor": 2
}
