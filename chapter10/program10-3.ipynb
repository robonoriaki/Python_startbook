{
 "cells": [
  {
   "cell_type": "code",
   "execution_count": 1,
   "metadata": {},
   "outputs": [],
   "source": [
    "#カメが直進し、ウィンドウの縁にきたら方向を変えて動き続けるアルゴリズムを考える\n",
    "\n",
    "#ウィンドウの幅と高さはすでにあるメソッドを使ってわかる、ウィンドウの中心が座標原点\n",
    "#つまり、高さhなら、プラス方向の限界はh/2である\n",
    "\n",
    "#現在の位置姿勢からウィンドウとの交点を計算する\n",
    "#angleはz軸上向きを正としたときの、現在のx軸からの角度\n",
    "#x0、y0は現在の座標\n",
    "\n",
    "class Line:\n",
    "    def __init__(self, angle, x0, y0):\n",
    "        #引数をこのデータ型のアトリビュートに設定\n",
    "        self.angle = float(angle)\n",
    "        self.x0 = float(x0)\n",
    "        self.y0 = float(y0)\n",
    "        \n",
    "    #ウィンドウのx軸の限界（x）まで行ったときのy座標を計算する\n",
    "    def get_y(self, x):\n",
    "        endy = self.angle * (x - self.x0) + self.y0\n",
    "        return endy\n",
    "    \n",
    "    #ウィンドウのy軸の限界（y）まで行ったときのx座標を計算する\n",
    "    def get_x(self, y):\n",
    "        endx = self.x0 * (y - self.y0) / self.angle\n",
    "        return endx"
   ]
  },
  {
   "cell_type": "code",
   "execution_count": 2,
   "metadata": {},
   "outputs": [],
   "source": [
    "#カメの角度を計算する\n",
    "\n",
    "import cleaner\n",
    "\n",
    "kame = cleaner.Kame()"
   ]
  },
  {
   "cell_type": "code",
   "execution_count": 3,
   "metadata": {},
   "outputs": [],
   "source": [
    "#度数法から弧度法に変更する\n",
    "kame.radians()"
   ]
  },
  {
   "cell_type": "code",
   "execution_count": 4,
   "metadata": {},
   "outputs": [],
   "source": [
    "#mathモジュールにはpiというアトリビュートがあり、これは円周率を表す\n",
    "\n",
    "import math\n",
    "\n",
    "#piだけ左回転する\n",
    "kame.left(math.pi)"
   ]
  },
  {
   "cell_type": "code",
   "execution_count": 5,
   "metadata": {},
   "outputs": [],
   "source": [
    "#ランダムに回転するためにrandomメソッドを使う\n",
    "\n",
    "import random\n",
    "\n",
    "#0から1までの乱数を得る\n",
    "rnum = random.random()\n",
    "\n",
    "#回転する\n",
    "kame.left(rnum * 2 * math.pi)\n",
    "#進む\n",
    "kame.forward(100)"
   ]
  },
  {
   "cell_type": "code",
   "execution_count": 6,
   "metadata": {},
   "outputs": [
    {
     "data": {
      "text/plain": [
       "3.939931577510985"
      ]
     },
     "execution_count": 6,
     "metadata": {},
     "output_type": "execute_result"
    }
   ],
   "source": [
    "#z軸の正を画面手前方向にとると、左回りが正になる\n",
    "#headingはx軸を基準にしたカメの角度を返すメソッド\n",
    "kame.heading()"
   ]
  },
  {
   "cell_type": "code",
   "execution_count": 7,
   "metadata": {},
   "outputs": [
    {
     "data": {
      "text/plain": [
       "0.7983389239211915"
      ]
     },
     "execution_count": 7,
     "metadata": {},
     "output_type": "execute_result"
    }
   ],
   "source": [
    "#カメの位置からx軸正方向に線を引いたとする\n",
    "#そこを基準にして指定した座標までの角度を返すメソッド、towards\n",
    "kame.towards(0,0)"
   ]
  },
  {
   "cell_type": "code",
   "execution_count": null,
   "metadata": {},
   "outputs": [],
   "source": [
    "#直進するとカメがウィンドウのどこにぶつかるか計算する"
   ]
  }
 ],
 "metadata": {
  "kernelspec": {
   "display_name": "Python 3",
   "language": "python",
   "name": "python3"
  },
  "language_info": {
   "codemirror_mode": {
    "name": "ipython",
    "version": 3
   },
   "file_extension": ".py",
   "mimetype": "text/x-python",
   "name": "python",
   "nbconvert_exporter": "python",
   "pygments_lexer": "ipython3",
   "version": "3.6.5"
  }
 },
 "nbformat": 4,
 "nbformat_minor": 2
}
