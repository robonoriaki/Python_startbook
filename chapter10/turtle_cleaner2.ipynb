{
 "cells": [
  {
   "cell_type": "code",
   "execution_count": 1,
   "metadata": {},
   "outputs": [
    {
     "name": "stdout",
     "output_type": "stream",
     "text": [
      "xe = 480.0\n",
      "ye = 405.0\n",
      "des_x = 480.0\n",
      "des_y = 0.0\n"
     ]
    }
   ],
   "source": [
    "import cleaner3\n",
    "\n",
    "kame = cleaner3.Kame()\n",
    "kame.hit_wall()"
   ]
  },
  {
   "cell_type": "code",
   "execution_count": 2,
   "metadata": {},
   "outputs": [],
   "source": [
    "#kame.getscreen().onclick(kame.click_on_move)\n",
    "kame.getscreen().clear()"
   ]
  },
  {
   "cell_type": "code",
   "execution_count": 3,
   "metadata": {},
   "outputs": [
    {
     "name": "stdout",
     "output_type": "stream",
     "text": [
      "xe = 480.0\n",
      "ye = 405.0\n",
      "des_x = 480.0\n",
      "des_y = 0.0\n"
     ]
    }
   ],
   "source": [
    "kame = cleaner3.Kame()\n",
    "kame.hit_wall()"
   ]
  },
  {
   "cell_type": "code",
   "execution_count": 4,
   "metadata": {},
   "outputs": [],
   "source": [
    "kame.getscreen().onclick(kame.click_on_move)"
   ]
  },
  {
   "cell_type": "code",
   "execution_count": 5,
   "metadata": {},
   "outputs": [
    {
     "name": "stdout",
     "output_type": "stream",
     "text": [
      "xe = 480.0\n",
      "ye = 405.0\n",
      "des_x = 67.17611783416424\n",
      "des_y = 405.0\n",
      "xe = 480.0\n",
      "ye = 405.0\n",
      "des_x = 480.0\n",
      "des_y = 66.00619236456566\n",
      "xe = 480.0\n",
      "ye = 405.0\n",
      "des_x = 480.0\n",
      "des_y = 66.00619236456566\n",
      "xe = 480.0\n",
      "ye = 405.0\n",
      "des_x = 480.0\n",
      "des_y = -111.74758740731255\n",
      "xe = 480.0\n",
      "ye = 405.0\n",
      "des_x = 480.0\n",
      "des_y = -111.74758740731255\n",
      "xe = 480.0\n",
      "ye = 405.0\n",
      "des_x = 473.56994636300254\n",
      "des_y = 405.0\n",
      "xe = 480.0\n",
      "ye = 405.0\n",
      "des_x = -142.41298460582237\n",
      "des_y = -405.0\n",
      "xe = 480.0\n",
      "ye = 405.0\n",
      "des_x = 480.0\n",
      "des_y = -24.680737902794874\n",
      "xe = 480.0\n",
      "ye = 405.0\n",
      "des_x = 480.0\n",
      "des_y = 265.9114801308239\n",
      "xe = 480.0\n",
      "ye = 405.0\n",
      "des_x = 480.0\n",
      "des_y = 265.9114801308239\n",
      "xe = 480.0\n",
      "ye = 405.0\n",
      "des_x = 480.0\n",
      "des_y = -65.11288699970959\n",
      "xe = 480.0\n",
      "ye = 405.0\n",
      "des_x = 480.0\n",
      "des_y = -65.11288699970959\n",
      "xe = 480.0\n",
      "ye = 405.0\n",
      "des_x = 338.01168482222965\n",
      "des_y = -405.0\n",
      "xe = 480.0\n",
      "ye = 405.0\n",
      "des_x = 480.0\n",
      "des_y = -379.86789068116775\n",
      "xe = 480.0\n",
      "ye = 405.0\n",
      "des_x = -270.4391297067708\n",
      "des_y = 405.0\n",
      "xe = 480.0\n",
      "ye = 405.0\n",
      "des_x = 480.0\n",
      "des_y = 205.93694903076064\n",
      "xe = 480.0\n",
      "ye = 405.0\n",
      "des_x = 480.0\n",
      "des_y = 205.93694903076064\n",
      "xe = 480.0\n",
      "ye = 405.0\n",
      "des_x = 480.0\n",
      "des_y = 353.8369594919809\n",
      "xe = 480.0\n",
      "ye = 405.0\n",
      "des_x = 480.0\n",
      "des_y = 353.8369594919809\n",
      "xe = 480.0\n",
      "ye = 405.0\n",
      "des_x = 480.0\n",
      "des_y = -143.0942923263217\n"
     ]
    }
   ],
   "source": [
    "kame.run()"
   ]
  }
 ],
 "metadata": {
  "kernelspec": {
   "display_name": "Python 3",
   "language": "python",
   "name": "python3"
  },
  "language_info": {
   "codemirror_mode": {
    "name": "ipython",
    "version": 3
   },
   "file_extension": ".py",
   "mimetype": "text/x-python",
   "name": "python",
   "nbconvert_exporter": "python",
   "pygments_lexer": "ipython3",
   "version": "3.6.5"
  }
 },
 "nbformat": 4,
 "nbformat_minor": 2
}
