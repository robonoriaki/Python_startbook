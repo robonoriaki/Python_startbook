{
 "cells": [
  {
   "cell_type": "code",
   "execution_count": 1,
   "metadata": {},
   "outputs": [],
   "source": [
    "#継承を学ぶ\n",
    "#オブジェクト指向プログラミングの特徴は「できる限り誰かを頼ってプログラミングする」という点\n",
    "\n",
    "#使える部分をすでに存在するデータ型から受け継ぐために継承という機能を使う\n",
    "#turtle.Turtle型を継承して新しいクラスを作る\n",
    "import turtle\n",
    "\n",
    "class Kame(turtle.Turtle):\n",
    "    pass\n",
    "\n",
    "#この時点で、turtle.Turtle型と同じ機能をもつKameというデータ型ができた"
   ]
  },
  {
   "cell_type": "code",
   "execution_count": 2,
   "metadata": {},
   "outputs": [],
   "source": [
    "#turtle.Turtle型と同じ機能を持っているか確かめる\n",
    "#test = Kame()\n",
    "#test.forward(100)"
   ]
  },
  {
   "cell_type": "code",
   "execution_count": 3,
   "metadata": {},
   "outputs": [],
   "source": [
    "#初期化メソッドにカメの形に変更する処理とサイズを大きくする処理をいれる\n",
    "#しかし、単純に初期化メソッドを書くと、既に存在している初期化メソッドを上書きすることになり、エラーが出る\n",
    "#よって、superを使う、これは自分の親クラスを返してくれる\n",
    "class Kame(turtle.Turtle):\n",
    "    def __init__(self):\n",
    "        #親クラスであるturtle.Turtle型の初期化メソッドを呼び出す\n",
    "        super(Kame, self).__init__()\n",
    "        #その後、処理を加える\n",
    "        self.shape('turtle')\n",
    "        self.shapesize(2,2,3)"
   ]
  },
  {
   "cell_type": "code",
   "execution_count": 4,
   "metadata": {},
   "outputs": [],
   "source": [
    "test = Kame()\n",
    "test.forward(100)"
   ]
  }
 ],
 "metadata": {
  "kernelspec": {
   "display_name": "Python 3",
   "language": "python",
   "name": "python3"
  },
  "language_info": {
   "codemirror_mode": {
    "name": "ipython",
    "version": 3
   },
   "file_extension": ".py",
   "mimetype": "text/x-python",
   "name": "python",
   "nbconvert_exporter": "python",
   "pygments_lexer": "ipython3",
   "version": "3.6.5"
  }
 },
 "nbformat": 4,
 "nbformat_minor": 2
}
