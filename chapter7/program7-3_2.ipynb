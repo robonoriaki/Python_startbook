{
 "cells": [
  {
   "cell_type": "code",
   "execution_count": 1,
   "metadata": {},
   "outputs": [],
   "source": [
    "#ある範囲内をランダムで動き続けるカメを描く\n",
    "\n",
    "import turtle\n",
    "import random\n",
    "\n",
    "#カメの初期設定\n",
    "kame = turtle.Turtle()\n",
    "kame.shape('turtle')\n",
    "kame.shapesize(2,2,3)"
   ]
  },
  {
   "cell_type": "code",
   "execution_count": 2,
   "metadata": {},
   "outputs": [],
   "source": [
    "#範囲を描く\n",
    "kame.penup()\n",
    "kame.forward(200)\n",
    "kame.left(90)\n",
    "kame.pendown()\n",
    "kame.circle(200)\n",
    "\n",
    "#原点に戻る\n",
    "kame.penup()\n",
    "kame.home()\n",
    "kame.position()\n",
    "kame.pendown()"
   ]
  },
  {
   "cell_type": "code",
   "execution_count": 3,
   "metadata": {},
   "outputs": [],
   "source": [
    "#ある一定の距離を移動したら、左回りしてまた移動する\n",
    "#動き続けるためには本来whileで書くが、練習のためforを使う\n",
    "for i in range(50):\n",
    "    #回転する角度の変数angle\n",
    "    #1から360のからランダムに数値を選ぶ\n",
    "    angle = random.randint(1,360)\n",
    "    kame.left(angle)\n",
    "    kame.forward(30)\n",
    "    \n",
    "    #範囲外に出たら戻る\n",
    "    dis = kame.distance(0,0)\n",
    "    if dis > 200:\n",
    "        kame.undo()"
   ]
  }
 ],
 "metadata": {
  "kernelspec": {
   "display_name": "Python 3",
   "language": "python",
   "name": "python3"
  },
  "language_info": {
   "codemirror_mode": {
    "name": "ipython",
    "version": 3
   },
   "file_extension": ".py",
   "mimetype": "text/x-python",
   "name": "python",
   "nbconvert_exporter": "python",
   "pygments_lexer": "ipython3",
   "version": "3.6.5"
  }
 },
 "nbformat": 4,
 "nbformat_minor": 2
}
