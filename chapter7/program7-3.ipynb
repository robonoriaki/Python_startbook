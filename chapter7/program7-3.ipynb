{
 "cells": [
  {
   "cell_type": "code",
   "execution_count": 1,
   "metadata": {},
   "outputs": [],
   "source": [
    "#turtle moduleをより使う\n",
    "#正三角形を描く\n",
    "import turtle\n",
    "\n",
    "kame = turtle.Turtle()\n",
    "kame.shape('turtle')\n",
    "kame.shapesize(2,2,3)\n",
    "\n",
    "#初期化\n",
    "kame.home()\n",
    "kame.clear()\n",
    "\n",
    "#一辺分動く\n",
    "kame.forward(200)"
   ]
  },
  {
   "cell_type": "code",
   "execution_count": 2,
   "metadata": {},
   "outputs": [],
   "source": [
    "#左に120度回転して次の辺を描く\n",
    "kame.left(120)\n",
    "kame.forward(200)"
   ]
  },
  {
   "cell_type": "code",
   "execution_count": 3,
   "metadata": {},
   "outputs": [],
   "source": [
    "#最後の辺を描く\n",
    "kame.left(120)\n",
    "kame.forward(200)"
   ]
  },
  {
   "cell_type": "code",
   "execution_count": 4,
   "metadata": {},
   "outputs": [],
   "source": [
    "#for文を使って三角形を描くと、コードがすっきりする\n",
    "#少し移動して新しく描く\n",
    "kame.penup()\n",
    "kame.left(30)\n",
    "kame.forward(100)\n",
    "kame.left(90)\n",
    "kame.pendown()\n",
    "\n",
    "#3回繰り返すfor文\n",
    "for i in range(3):\n",
    "    kame.forward(200)\n",
    "    kame.left(120)"
   ]
  },
  {
   "cell_type": "code",
   "execution_count": 5,
   "metadata": {},
   "outputs": [],
   "source": [
    "#少し移動して新しく描く\n",
    "kame.penup()\n",
    "kame.right(180)\n",
    "kame.forward(300)\n",
    "kame.right(180)\n",
    "kame.pendown()\n",
    "\n",
    "#星を描く\n",
    "for i in range(5):\n",
    "    kame.forward(200)\n",
    "    kame.left(144)"
   ]
  },
  {
   "cell_type": "code",
   "execution_count": null,
   "metadata": {},
   "outputs": [],
   "source": []
  }
 ],
 "metadata": {
  "kernelspec": {
   "display_name": "Python 3",
   "language": "python",
   "name": "python3"
  },
  "language_info": {
   "codemirror_mode": {
    "name": "ipython",
    "version": 3
   },
   "file_extension": ".py",
   "mimetype": "text/x-python",
   "name": "python",
   "nbconvert_exporter": "python",
   "pygments_lexer": "ipython3",
   "version": "3.6.5"
  }
 },
 "nbformat": 4,
 "nbformat_minor": 2
}
