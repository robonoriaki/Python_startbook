{
 "cells": [
  {
   "cell_type": "code",
   "execution_count": 1,
   "metadata": {},
   "outputs": [],
   "source": [
    "#turtle moduleをより使う\n",
    "#正三角形を描く\n",
    "import turtle\n",
    "\n",
    "kame = turtle.Turtle()\n",
    "kame.shape('turtle')\n",
    "kame.shapesize(2,2,3)\n",
    "\n",
    "#初期化\n",
    "kame.home()\n",
    "kame.clear()\n",
    "\n",
    "#一辺分動く\n",
    "kame.forward(200)"
   ]
  },
  {
   "cell_type": "code",
   "execution_count": 2,
   "metadata": {},
   "outputs": [],
   "source": [
    "#左に120度回転して次の辺を描く\n",
    "kame.left(120)\n",
    "kame.forward(200)"
   ]
  },
  {
   "cell_type": "code",
   "execution_count": 3,
   "metadata": {},
   "outputs": [],
   "source": [
    "#最後の辺を描く\n",
    "kame.left(120)\n",
    "kame.forward(200)"
   ]
  },
  {
   "cell_type": "code",
   "execution_count": null,
   "metadata": {},
   "outputs": [],
   "source": []
  }
 ],
 "metadata": {
  "kernelspec": {
   "display_name": "Python 3",
   "language": "python",
   "name": "python3"
  },
  "language_info": {
   "codemirror_mode": {
    "name": "ipython",
    "version": 3
   },
   "file_extension": ".py",
   "mimetype": "text/x-python",
   "name": "python",
   "nbconvert_exporter": "python",
   "pygments_lexer": "ipython3",
   "version": "3.6.5"
  }
 },
 "nbformat": 4,
 "nbformat_minor": 2
}
